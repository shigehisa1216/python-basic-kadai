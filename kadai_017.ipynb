{
  "nbformat": 4,
  "nbformat_minor": 0,
  "metadata": {
    "colab": {
      "provenance": [],
      "authorship_tag": "ABX9TyNJ9Rz9JA8xUHeRNjyQGc5L",
      "include_colab_link": true
    },
    "kernelspec": {
      "name": "python3",
      "display_name": "Python 3"
    },
    "language_info": {
      "name": "python"
    }
  },
  "cells": [
    {
      "cell_type": "markdown",
      "metadata": {
        "id": "view-in-github",
        "colab_type": "text"
      },
      "source": [
        "<a href=\"https://colab.research.google.com/github/shigehisa1216/python-basic-kadai/blob/main/kadai_017.ipynb\" target=\"_parent\"><img src=\"https://colab.research.google.com/assets/colab-badge.svg\" alt=\"Open In Colab\"/></a>"
      ]
    },
    {
      "cell_type": "code",
      "execution_count": 6,
      "metadata": {
        "id": "-EegE-mwUb4C",
        "colab": {
          "base_uri": "https://localhost:8080/"
        },
        "outputId": "5d375d32-f1c1-44bb-821f-0a1f6e07384c"
      },
      "outputs": [
        {
          "output_type": "stream",
          "name": "stdout",
          "text": [
            "秋山さんは大人です\n",
            "土屋さんは子供です\n",
            "上原さんは大人です\n"
          ]
        }
      ],
      "source": [
        "class Human:\n",
        "    def _init_(self, name, age):\n",
        "        self.name = name\n",
        "        self.age = age\n",
        "\n",
        "\n",
        "#check_adultメソッドの作成\n",
        "    def check_adult(self, name, age):\n",
        "        self.name = name\n",
        "        self.age = age\n",
        "\n",
        "        if self.age >= 20:\n",
        "            jugde = \"大人\"\n",
        "        else:\n",
        "            jugde = \"子供\"\n",
        "\n",
        "        print(self.name + \"さんは\" + jugde + \"です\")\n",
        "\n",
        "human = Human()\n",
        "\n",
        "#リストに要素を追加して要素分だけメソッドを繰り返し\n",
        "\n",
        "list =[\"秋山\", \"土屋\", \"上原\"]\n",
        "list2 =[21, 15, 33]\n",
        "\n",
        "num = 0\n",
        "\n",
        "while num < 3:\n",
        "   human.check_adult(list[num],list2[num])\n",
        "   num = num + 1\n",
        "\n",
        "\n"
      ]
    }
  ]
}