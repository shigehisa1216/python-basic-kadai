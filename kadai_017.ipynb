{
  "nbformat": 4,
  "nbformat_minor": 0,
  "metadata": {
    "colab": {
      "provenance": [],
      "authorship_tag": "ABX9TyObLPX7fDbMufaXl+SCZcGC",
      "include_colab_link": true
    },
    "kernelspec": {
      "name": "python3",
      "display_name": "Python 3"
    },
    "language_info": {
      "name": "python"
    }
  },
  "cells": [
    {
      "cell_type": "markdown",
      "metadata": {
        "id": "view-in-github",
        "colab_type": "text"
      },
      "source": [
        "<a href=\"https://colab.research.google.com/github/shigehisa1216/python-basic-kadai/blob/main/kadai_017.ipynb\" target=\"_parent\"><img src=\"https://colab.research.google.com/assets/colab-badge.svg\" alt=\"Open In Colab\"/></a>"
      ]
    },
    {
      "cell_type": "code",
      "execution_count": 7,
      "metadata": {
        "id": "-EegE-mwUb4C",
        "colab": {
          "base_uri": "https://localhost:8080/"
        },
        "outputId": "1ab25920-ba2a-4301-bc86-d0e6d5afee26"
      },
      "outputs": [
        {
          "output_type": "stream",
          "name": "stdout",
          "text": [
            "侍一 は未成年です\n",
            "侍二 は未成年です\n",
            "侍三 は大人です\n",
            "侍四 は大人です\n",
            "侍五 は大人です\n"
          ]
        }
      ],
      "source": [
        "class Human:\n",
        "  def __init__(self, name, age):\n",
        "    # 属性の定義\n",
        "    self.name = name\n",
        "    self.age = age\n",
        "\n",
        "  def check_adult(self):\n",
        "    if self.age >= 20:\n",
        "      print(\"{} は大人です\".format(self.name))\n",
        "    else:\n",
        "      print(\"{} は未成年です\".format(self.name))\n",
        "\n",
        "# インスタンスを作成\n",
        "human = [[\"侍一\", 10], [\"侍二\", 12], [\"侍三\", 20], [\"侍四\", 22], [\"侍五\", 30]]\n",
        "\n",
        "# human_listへインスタンスのリストを追加\n",
        "human_list = []\n",
        "for d in human:\n",
        "  human_list.append((d[0], d[1]))\n",
        "\n",
        "# human_listより各インスタンスのメソッドを実行\n",
        "i = 0\n",
        "for h in human_list:\n",
        "  Human(h[0], h[1]).check_adult()"
      ]
    }
  ]
}