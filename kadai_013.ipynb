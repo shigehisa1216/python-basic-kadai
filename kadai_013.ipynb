{
  "nbformat": 4,
  "nbformat_minor": 0,
  "metadata": {
    "colab": {
      "provenance": [],
      "authorship_tag": "ABX9TyM18qW3oAQenI+lebk/Yjut",
      "include_colab_link": true
    },
    "kernelspec": {
      "name": "python3",
      "display_name": "Python 3"
    },
    "language_info": {
      "name": "python"
    }
  },
  "cells": [
    {
      "cell_type": "markdown",
      "metadata": {
        "id": "view-in-github",
        "colab_type": "text"
      },
      "source": [
        "<a href=\"https://colab.research.google.com/github/shigehisa1216/python-basic-kadai/blob/main/kadai_013.ipynb\" target=\"_parent\"><img src=\"https://colab.research.google.com/assets/colab-badge.svg\" alt=\"Open In Colab\"/></a>"
      ]
    },
    {
      "cell_type": "code",
      "execution_count": 3,
      "metadata": {
        "colab": {
          "base_uri": "https://localhost:8080/"
        },
        "id": "45KFBsMkl6K2",
        "outputId": "bdd0b7f5-63ca-4a0b-cf46-45cca92679d5"
      },
      "outputs": [
        {
          "output_type": "stream",
          "name": "stdout",
          "text": [
            "1100.0\n"
          ]
        }
      ],
      "source": [
        "def tax_included(price, tax) -> int:\n",
        "\n",
        "    return  price + (price * tax)/100\n",
        "\n",
        "print(tax_included(1000, 10))"
      ]
    }
  ]
}